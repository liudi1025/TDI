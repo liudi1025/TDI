{
 "cells": [
  {
   "cell_type": "markdown",
   "metadata": {},
   "source": [
    "<ul>\n",
    "<li>[Step 1: Data Analysis for rating score](#Part-1:-Rating-Analysis)\n",
    "<li>[Step 2: TF-IDF for extracting significant keyword](#Part-2:-Review-Analysis)\n",
    "<li>[Step 3: Recommendation System for matching ideal company for employee](#Part-3:-Recommendation)\n",
    "</ul>"
   ]
  },
  {
   "cell_type": "code",
   "execution_count": 1,
   "metadata": {},
   "outputs": [],
   "source": [
    "# Load Data\n",
    "import warnings\n",
    "warnings.filterwarnings('ignore')\n",
    "\n",
    "import numpy as np\n",
    "\n",
    "import pandas as pd\n",
    "pd.set_option('display.max_columns', None)\n",
    "\n",
    "df = pd.read_csv(r'C:\\Users\\liudi\\Desktop\\python code\\LaiData_MLProjects\\TDI\\employee_reviews.csv')"
   ]
  },
  {
   "cell_type": "code",
   "execution_count": 2,
   "metadata": {
    "scrolled": true
   },
   "outputs": [
    {
     "name": "stdout",
     "output_type": "stream",
     "text": [
      "The dimension of the table is 67529 rows and 17 columns.\n"
     ]
    }
   ],
   "source": [
    "print('The dimension of the table is ' + str(df.shape[0]) + ' rows and ' + str(df.shape[1]) + ' columns.')  "
   ]
  },
  {
   "cell_type": "code",
   "execution_count": 3,
   "metadata": {},
   "outputs": [],
   "source": [
    "# convert 'object' type data into 'float' type data\n",
    "df['work-balance-stars']=pd.to_numeric(df['work-balance-stars'],errors='coerce')\n",
    "df['culture-values-stars']=pd.to_numeric(df['culture-values-stars'],errors='coerce')\n",
    "df['carrer-opportunities-stars']=pd.to_numeric(df['carrer-opportunities-stars'],errors='coerce')\n",
    "df['comp-benefit-stars']=pd.to_numeric(df['comp-benefit-stars'],errors='coerce')\n",
    "df['senior-mangemnet-stars']=pd.to_numeric(df['senior-mangemnet-stars'],errors='coerce')"
   ]
  },
  {
   "cell_type": "markdown",
   "metadata": {},
   "source": [
    "# Part 1: Rating Analysis"
   ]
  },
  {
   "cell_type": "markdown",
   "metadata": {},
   "source": [
    "### factors related most to the overall ratings"
   ]
  },
  {
   "cell_type": "code",
   "execution_count": 4,
   "metadata": {
    "scrolled": false
   },
   "outputs": [
    {
     "data": {
      "text/html": [
       "<div>\n",
       "<style scoped>\n",
       "    .dataframe tbody tr th:only-of-type {\n",
       "        vertical-align: middle;\n",
       "    }\n",
       "\n",
       "    .dataframe tbody tr th {\n",
       "        vertical-align: top;\n",
       "    }\n",
       "\n",
       "    .dataframe thead th {\n",
       "        text-align: right;\n",
       "    }\n",
       "</style>\n",
       "<table border=\"1\" class=\"dataframe\">\n",
       "  <thead>\n",
       "    <tr style=\"text-align: right;\">\n",
       "      <th></th>\n",
       "      <th>overall-ratings</th>\n",
       "      <th>work-balance-stars</th>\n",
       "      <th>culture-values-stars</th>\n",
       "      <th>carrer-opportunities-stars</th>\n",
       "      <th>comp-benefit-stars</th>\n",
       "      <th>senior-mangemnet-stars</th>\n",
       "    </tr>\n",
       "  </thead>\n",
       "  <tbody>\n",
       "    <tr>\n",
       "      <th>overall-ratings</th>\n",
       "      <td>1.000000</td>\n",
       "      <td>0.609253</td>\n",
       "      <td>0.758462</td>\n",
       "      <td>0.692263</td>\n",
       "      <td>0.537515</td>\n",
       "      <td>0.726001</td>\n",
       "    </tr>\n",
       "    <tr>\n",
       "      <th>work-balance-stars</th>\n",
       "      <td>0.609253</td>\n",
       "      <td>1.000000</td>\n",
       "      <td>0.573674</td>\n",
       "      <td>0.462895</td>\n",
       "      <td>0.416517</td>\n",
       "      <td>0.571932</td>\n",
       "    </tr>\n",
       "    <tr>\n",
       "      <th>culture-values-stars</th>\n",
       "      <td>0.758462</td>\n",
       "      <td>0.573674</td>\n",
       "      <td>1.000000</td>\n",
       "      <td>0.584871</td>\n",
       "      <td>0.462756</td>\n",
       "      <td>0.715195</td>\n",
       "    </tr>\n",
       "    <tr>\n",
       "      <th>carrer-opportunities-stars</th>\n",
       "      <td>0.692263</td>\n",
       "      <td>0.462895</td>\n",
       "      <td>0.584871</td>\n",
       "      <td>1.000000</td>\n",
       "      <td>0.511943</td>\n",
       "      <td>0.631258</td>\n",
       "    </tr>\n",
       "    <tr>\n",
       "      <th>comp-benefit-stars</th>\n",
       "      <td>0.537515</td>\n",
       "      <td>0.416517</td>\n",
       "      <td>0.462756</td>\n",
       "      <td>0.511943</td>\n",
       "      <td>1.000000</td>\n",
       "      <td>0.470887</td>\n",
       "    </tr>\n",
       "  </tbody>\n",
       "</table>\n",
       "</div>"
      ],
      "text/plain": [
       "                            overall-ratings  work-balance-stars  \\\n",
       "overall-ratings                    1.000000            0.609253   \n",
       "work-balance-stars                 0.609253            1.000000   \n",
       "culture-values-stars               0.758462            0.573674   \n",
       "carrer-opportunities-stars         0.692263            0.462895   \n",
       "comp-benefit-stars                 0.537515            0.416517   \n",
       "\n",
       "                            culture-values-stars  carrer-opportunities-stars  \\\n",
       "overall-ratings                         0.758462                    0.692263   \n",
       "work-balance-stars                      0.573674                    0.462895   \n",
       "culture-values-stars                    1.000000                    0.584871   \n",
       "carrer-opportunities-stars              0.584871                    1.000000   \n",
       "comp-benefit-stars                      0.462756                    0.511943   \n",
       "\n",
       "                            comp-benefit-stars  senior-mangemnet-stars  \n",
       "overall-ratings                       0.537515                0.726001  \n",
       "work-balance-stars                    0.416517                0.571932  \n",
       "culture-values-stars                  0.462756                0.715195  \n",
       "carrer-opportunities-stars            0.511943                0.631258  \n",
       "comp-benefit-stars                    1.000000                0.470887  "
      ]
     },
     "execution_count": 4,
     "metadata": {},
     "output_type": "execute_result"
    }
   ],
   "source": [
    "corr_list=[]\n",
    "for key in dict(df.dtypes):\n",
    "    if dict(df.dtypes)[key] == 'float64':\n",
    "        corr_list.append(key)\n",
    "\n",
    "corr = df[corr_list].corr()\n",
    "corr.head()"
   ]
  },
  {
   "cell_type": "code",
   "execution_count": 5,
   "metadata": {},
   "outputs": [
    {
     "data": {
      "text/plain": [
       "<matplotlib.axes._subplots.AxesSubplot at 0x13a742379b0>"
      ]
     },
     "execution_count": 5,
     "metadata": {},
     "output_type": "execute_result"
    },
    {
     "data": {
      "image/png": "[encoded data removed]",
      "text/plain": [
       "<Figure size 432x288 with 2 Axes>"
      ]
     },
     "metadata": {},
     "output_type": "display_data"
    }
   ],
   "source": [
    "% matplotlib inline \n",
    "import matplotlib.pyplot as plt\n",
    "import seaborn as sb\n",
    "\n",
    "sb.heatmap(corr,vmin=0, vmax=1)"
   ]
  },
  {
   "cell_type": "markdown",
   "metadata": {},
   "source": [
    "# Part 2: Review Analysis"
   ]
  },
  {
   "cell_type": "markdown",
   "metadata": {},
   "source": [
    "#### 2.1 Seperate dataframe according to company"
   ]
  },
  {
   "cell_type": "code",
   "execution_count": 6,
   "metadata": {
    "scrolled": true
   },
   "outputs": [],
   "source": [
    "g = df.groupby('company').size()\n",
    "\n",
    "df_google=df.loc[df['company'] == 'google']\n",
    "df_amazon=df.loc[df['company'] == 'amazon']\n",
    "df_apple=df.loc[df['company'] == 'apple']\n",
    "df_facebook=df.loc[df['company'] == 'facebook']\n",
    "df_microsoft=df.loc[df['company'] == 'microsoft']"
   ]
  },
  {
   "cell_type": "markdown",
   "metadata": {},
   "source": [
    "#### 2.2 Get the 'pros' comment into list"
   ]
  },
  {
   "cell_type": "code",
   "execution_count": 7,
   "metadata": {},
   "outputs": [],
   "source": [
    "def get_pros(df_company):\n",
    "    pros = []\n",
    "    for i in range(len(df_company)):  \n",
    "        pros.append(df_company.iloc[i][6])\n",
    "    return pros\n",
    "\n",
    "amazon_pros = get_pros(df_amazon)\n",
    "google_pros = get_pros(df_google)\n",
    "apple_pros = get_pros(df_apple)\n",
    "facebook_pros = get_pros(df_facebook)\n",
    "microsoft_pros = get_pros(df_microsoft)"
   ]
  },
  {
   "cell_type": "markdown",
   "metadata": {},
   "source": [
    "#### 2.3 Tokenize the words"
   ]
  },
  {
   "cell_type": "code",
   "execution_count": 8,
   "metadata": {},
   "outputs": [],
   "source": [
    "import nltk\n",
    "import re\n",
    "\n",
    "# Use nltk's English stopwords.\n",
    "stopwords = nltk.corpus.stopwords.words('english')"
   ]
  },
  {
   "cell_type": "code",
   "execution_count": 9,
   "metadata": {},
   "outputs": [],
   "source": [
    "def tokenization(text):\n",
    "    tokens = [word.lower() for sent in nltk.sent_tokenize(text) for word in nltk.word_tokenize(sent) if word not in stopwords]\n",
    "    filtered_tokens = []\n",
    "    for token in tokens:\n",
    "        if re.search('[a-zA-Z]', token):\n",
    "            filtered_tokens.append(token)\n",
    "    return filtered_tokens"
   ]
  },
  {
   "cell_type": "code",
   "execution_count": 10,
   "metadata": {},
   "outputs": [],
   "source": [
    "def get_docs_tokenized(company_pros):\n",
    "    docs_tokenized = []\n",
    "    for i in company_pros:    \n",
    "        tokenized_results = tokenization(i)\n",
    "        docs_tokenized.extend(tokenized_results)\n",
    "    return docs_tokenized\n",
    "\n",
    "amazon_docs_tokenized = get_docs_tokenized(amazon_pros)\n",
    "google_docs_tokenized = get_docs_tokenized(google_pros)\n",
    "facebook_docs_tokenized = get_docs_tokenized(facebook_pros)\n",
    "apple_docs_tokenized = get_docs_tokenized(apple_pros)\n",
    "microsoft_tokenized = get_docs_tokenized(microsoft_pros)\n",
    "all_docs_tokenized = list(set().union(amazon_docs_tokenized,google_docs_tokenized,facebook_docs_tokenized,\\\n",
    "                                      apple_docs_tokenized,microsoft_tokenized))"
   ]
  },
  {
   "cell_type": "markdown",
   "metadata": {},
   "source": [
    "#### 2.4 TF-IDF to get most significant words"
   ]
  },
  {
   "cell_type": "code",
   "execution_count": 11,
   "metadata": {},
   "outputs": [
    {
     "name": "stdout",
     "output_type": "stream",
     "text": [
      "In total, there are 26430 comments and 27 terms.\n",
      "In total, there are 7819 comments and 28 terms.\n",
      "In total, there are 1590 comments and 51 terms.\n",
      "In total, there are 12950 comments and 28 terms.\n",
      "In total, there are 17930 comments and 29 terms.\n"
     ]
    }
   ],
   "source": [
    "from sklearn.feature_extraction.text import TfidfVectorizer\n",
    "\n",
    "tfidf_model = TfidfVectorizer(max_df=1.0, max_features=100,\n",
    "                                 min_df=0.05, stop_words='english',\n",
    "                                 use_idf=True, tokenizer=tokenization, ngram_range=(1,1))\n",
    "\n",
    "def get_feature_words(company_pros):\n",
    "    tfidf_matrix = tfidf_model.fit_transform(company_pros) # company \n",
    "\n",
    "    print (\"In total, there are \" + str(tfidf_matrix.shape[0]) + \\\n",
    "          \" comments and \" + str(tfidf_matrix.shape[1]) + \" terms.\")\n",
    "    \n",
    "    tf_selected_words = tfidf_model.get_feature_names()\n",
    "    return tf_selected_words\n",
    "\n",
    "amazon_feature_word = get_feature_words(amazon_pros)\n",
    "google_feature_word = get_feature_words(google_pros)\n",
    "facebook_feature_word = get_feature_words(facebook_pros)\n",
    "apple_feature_word = get_feature_words(apple_pros)\n",
    "microsoft_feature_word = get_feature_words(microsoft_pros)  "
   ]
  },
  {
   "cell_type": "markdown",
   "metadata": {},
   "source": [
    "#### 2.5 Plot wordcloud"
   ]
  },
  {
   "cell_type": "code",
   "execution_count": 12,
   "metadata": {},
   "outputs": [
    {
     "data": {
      "image/png": "[encoded data removed]",
      "text/plain": [
       "<Figure size 432x288 with 1 Axes>"
      ]
     },
     "metadata": {},
     "output_type": "display_data"
    },
    {
     "data": {
      "text/plain": [
       "<wordcloud.wordcloud.WordCloud at 0x13a6ec25160>"
      ]
     },
     "execution_count": 12,
     "metadata": {},
     "output_type": "execute_result"
    }
   ],
   "source": [
    "amazon_text = ' '.join(amazon_feature_word)\n",
    "google_text = ' '.join(google_feature_word)\n",
    "facebook_text = ' '.join(facebook_feature_word)\n",
    "apple_text = ' '.join(apple_feature_word)\n",
    "microsoft_text = ' '.join(microsoft_feature_word)\n",
    "\n",
    "% matplotlib inline \n",
    "import matplotlib.pyplot as plt\n",
    "from wordcloud import WordCloud\n",
    "from scipy.misc import imread\n",
    "mask = imread(r'C:\\Users\\liudi\\Desktop\\mask1.png')\n",
    "wc=WordCloud(mask=mask,background_color=\"white\",scale=2).generate(apple_text)\n",
    "\n",
    "plt.imshow(wc,interpolation='bilinear')\n",
    "plt.axis(\"off\")\n",
    "plt.show()\n",
    "\n",
    "wc.to_file(r'C:\\Users\\liudi\\Desktop\\test.jpg')"
   ]
  },
  {
   "cell_type": "markdown",
   "metadata": {},
   "source": [
    "# Part 3: Recommendation"
   ]
  },
  {
   "cell_type": "code",
   "execution_count": 13,
   "metadata": {
    "scrolled": false
   },
   "outputs": [],
   "source": [
    "# http://kavita-ganesan.com/gensim-word2vec-tutorial-starter-code/#.XFTH0UtKhww\n",
    "# https://www.geeksforgeeks.org/python-word-embedding-using-word2vec/\n",
    "# https://stackoverflow.com/questions/22129943/how-to-calculate-the-sentence-similarity-using-word2vec-model-of-gensim-with-pyt\n",
    "import gensim \n",
    "from gensim.models import Word2Vec\n",
    "from numpy  import array\n",
    "a=array(all_docs_tokenized)\n",
    "wv_model= Word2Vec(a.reshape(-1, 1), min_count=1)\n",
    "vocabulary = wv_model.wv.vocab"
   ]
  },
  {
   "cell_type": "code",
   "execution_count": 14,
   "metadata": {},
   "outputs": [],
   "source": [
    "def get_featureVec(company_feature_word):\n",
    "    featureVec = np.ones((100,), dtype=\"float32\")\n",
    "    nwords = 0\n",
    "    for word in company_feature_word:\n",
    "        if word in vocabulary.keys():\n",
    "            nwords = nwords+1\n",
    "            featureVec = np.add(featureVec, wv_model[word])\n",
    "        if(nwords>0):\n",
    "            featureVec = np.divide(featureVec, nwords)\n",
    "    return featureVec\n",
    "\n",
    "amazon_featureVec = get_featureVec(amazon_feature_word)\n",
    "google_featureVec = get_featureVec(google_feature_word)\n",
    "facebook_featureVec = get_featureVec(facebook_feature_word)\n",
    "apple_featureVec = get_featureVec(apple_feature_word)\n",
    "microsoft_featureVec = get_featureVec(microsoft_feature_word)\n",
    "featureVec_list = [amazon_featureVec,google_featureVec,facebook_featureVec,apple_featureVec,microsoft_featureVec]"
   ]
  },
  {
   "cell_type": "code",
   "execution_count": 15,
   "metadata": {},
   "outputs": [],
   "source": [
    "user_input = ['benefit','culture', 'opportunity', 'smart', 'people', 'team', 'working']\n",
    "featureVec1 = np.ones((100,), dtype=\"float32\")\n",
    "nwords = 0\n",
    "for word in user_input:\n",
    "    if word in vocabulary.keys():\n",
    "        nwords = nwords+1\n",
    "        featureVec1 = np.add(featureVec1, wv_model[word])\n",
    "    if(nwords>0):\n",
    "        featureVec1 = np.divide(featureVec1, nwords)"
   ]
  },
  {
   "cell_type": "code",
   "execution_count": 16,
   "metadata": {},
   "outputs": [
    {
     "name": "stdout",
     "output_type": "stream",
     "text": [
      "dict_keys([0.9009680748])\n",
      "dict_keys([0.9009680748, 0.9011052251])\n",
      "dict_keys([0.9009680748, 0.9011052251, 0.0583073348])\n",
      "dict_keys([0.9009680748, 0.9011052251, 0.0583073348, 0.9010211825])\n",
      "dict_keys([0.9009680748, 0.9011052251, 0.0583073348, 0.9010211825, 0.9010879397])\n"
     ]
    }
   ],
   "source": [
    "from scipy import spatial\n",
    "def get_recommend_company(lst,input_vec):\n",
    "    company_name = ['Amazon', 'Google', 'Facebook', 'Apple', 'Microsoft']\n",
    "    i = 0\n",
    "    dict_vec = {}\n",
    "    for featureVec in featureVec_list:\n",
    "        sim = 1 - spatial.distance.cosine(featureVec,input_vec)\n",
    "        sim = round(sim,10)\n",
    "        dict_vec[sim]=company_name[i]\n",
    "        i = i+1\n",
    "        print(dict_vec.keys())\n",
    "    return dict_vec\n",
    "\n",
    "vec = get_recommend_company(featureVec_list, featureVec1)"
   ]
  },
  {
   "cell_type": "code",
   "execution_count": 17,
   "metadata": {
    "scrolled": false
   },
   "outputs": [
    {
     "name": "stdout",
     "output_type": "stream",
     "text": [
      "The most recommended company is: Google\n"
     ]
    }
   ],
   "source": [
    "print('The most recommended company is: ' + vec[max(vec.keys())])"
   ]
  }
 ],
 "metadata": {
  "kernelspec": {
   "display_name": "Python 3",
   "language": "python",
   "name": "python3"
  },
  "language_info": {
   "codemirror_mode": {
    "name": "ipython",
    "version": 3
   },
   "file_extension": ".py",
   "mimetype": "text/x-python",
   "name": "python",
   "nbconvert_exporter": "python",
   "pygments_lexer": "ipython3",
   "version": "3.6.5"
  }
 },
 "nbformat": 4,
 "nbformat_minor": 2
}
